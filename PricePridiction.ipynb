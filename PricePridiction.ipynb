{
 "cells": [
  {
   "cell_type": "code",
   "execution_count": 87,
   "id": "f2892a0f-c654-47a5-b313-0aef744636e8",
   "metadata": {},
   "outputs": [],
   "source": [
    "import pandas as pd\n",
    "import numpy as np\n",
    "import matplotlib.pyplot as plt\n",
    "import seaborn as sns"
   ]
  },
  {
   "cell_type": "code",
   "execution_count": 88,
   "id": "5a08f463-b782-458f-89e2-a3de9f430414",
   "metadata": {},
   "outputs": [
    {
     "data": {
      "text/plain": [
       "(      Date  USD (PM)\n",
       " 0  9/12/16   1324.60\n",
       " 1  9/13/16   1323.65\n",
       " 2  9/14/16   1321.75\n",
       " 3  9/15/16   1310.80\n",
       " 4  9/16/16   1308.35,\n",
       "       Date   Value\n",
       " 0  9/11/16  621.65\n",
       " 1  9/12/16  609.67\n",
       " 2  9/13/16  610.92\n",
       " 3  9/14/16  608.82\n",
       " 4  9/15/16  610.38)"
      ]
     },
     "execution_count": 88,
     "metadata": {},
     "output_type": "execute_result"
    }
   ],
   "source": [
    "df_gold = pd.read_csv(\"LBMA-GOLD.csv\")\n",
    "df_bit = pd.read_csv(\"BCHAIN-MKPRU.csv\")\n",
    "\n",
    "df_gold.head(), df_bit.head()"
   ]
  },
  {
   "cell_type": "code",
   "execution_count": 89,
   "id": "7531b250-bd20-42db-90fc-593e9b16d89b",
   "metadata": {},
   "outputs": [
    {
     "data": {
      "text/plain": [
       "(        Date  USD (PM)\n",
       " 0 2016-09-12   1324.60\n",
       " 1 2016-09-13   1323.65\n",
       " 2 2016-09-14   1321.75\n",
       " 3 2016-09-15   1310.80\n",
       " 4 2016-09-16   1308.35,\n",
       "         Date   Value\n",
       " 0 2016-09-11  621.65\n",
       " 1 2016-09-12  609.67\n",
       " 2 2016-09-13  610.92\n",
       " 3 2016-09-14  608.82\n",
       " 4 2016-09-15  610.38)"
      ]
     },
     "execution_count": 89,
     "metadata": {},
     "output_type": "execute_result"
    }
   ],
   "source": [
    "df_bit[\"Date\"] = pd.to_datetime(df_bit[\"Date\"], errors=\"coerce\", format=\"%m/%d/%y\")\n",
    "df_gold[\"Date\"] = pd.to_datetime(df_gold[\"Date\"], errors=\"coerce\", format=\"%m/%d/%y\")\n",
    "\n",
    "df_gold.head(), df_bit.head()"
   ]
  },
  {
   "cell_type": "code",
   "execution_count": 90,
   "id": "48d21c7a-6dab-4d98-a730-b169adfcb66a",
   "metadata": {},
   "outputs": [
    {
     "name": "stdout",
     "output_type": "stream",
     "text": [
      "Before cleaning, the num of missing values for bitcoin prices is 0\n",
      "Before cleaning, the num of missing values for gold prices is 10\n",
      "After cleaning, the num of missing values for bitcoin prices is 0\n",
      "After cleaning, the num of missing values for gold prices is 0\n"
     ]
    }
   ],
   "source": [
    "print(f\"Before cleaning, the num of missing values for bitcoin prices is {df_bit[\"Value\"].isna().sum()}\")\n",
    "print(f\"Before cleaning, the num of missing values for gold prices is {df_gold[\"USD (PM)\"].isna().sum()}\")\n",
    "\n",
    "def fill_na(data, column):\n",
    "    '''fill the na values with the mean of adjacent values'''\n",
    "    for i in range(1, len(data) - 1):\n",
    "        if np.isnan(data[column].iloc[i]):\n",
    "            adjacent_mean = (data[column].iloc[i - 1] + data[column].iloc[i + 1]) / 2\n",
    "            data.at[i, column] = adjacent_mean\n",
    "    return data\n",
    "\n",
    "df_bit = fill_na(df_bit, \"Value\")\n",
    "df_gold = fill_na(df_gold, \"USD (PM)\")\n",
    "print(f\"After cleaning, the num of missing values for bitcoin prices is {df_bit[\"Value\"].isna().sum()}\")\n",
    "print(f\"After cleaning, the num of missing values for gold prices is {df_gold[\"USD (PM)\"].isna().sum()}\")"
   ]
  },
  {
   "cell_type": "code",
   "execution_count": null,
   "id": "3e2224cf-2ea2-4f6c-bbb7-bc320e4f4284",
   "metadata": {},
   "outputs": [],
   "source": []
  }
 ],
 "metadata": {
  "kernelspec": {
   "display_name": "Python 3 (ipykernel)",
   "language": "python",
   "name": "python3"
  },
  "language_info": {
   "codemirror_mode": {
    "name": "ipython",
    "version": 3
   },
   "file_extension": ".py",
   "mimetype": "text/x-python",
   "name": "python",
   "nbconvert_exporter": "python",
   "pygments_lexer": "ipython3",
   "version": "3.12.3"
  }
 },
 "nbformat": 4,
 "nbformat_minor": 5
}
